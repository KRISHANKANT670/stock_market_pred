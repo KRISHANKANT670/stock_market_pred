{
 "cells": [
  {
   "cell_type": "code",
   "execution_count": 1,
   "id": "4eaeefe0",
   "metadata": {},
   "outputs": [],
   "source": [
    "import numpy as np\n",
    "import pandas as pd\n",
    "from sklearn import preprocessing\n",
    "from sklearn import metrics\n",
    "from sklearn.model_selection import train_test_split\n",
    "from sklearn.linear_model import LinearRegression\n",
    "import matplotlib.pyplot as plt"
   ]
  },
  {
   "cell_type": "code",
   "execution_count": 2,
   "id": "24bd89b8",
   "metadata": {},
   "outputs": [],
   "source": [
    "data = pd.read_csv(\"C:/Users/admin/stock_market_pred/Stock_Price_Prediction.csv\")"
   ]
  },
  {
   "cell_type": "code",
   "execution_count": 4,
   "id": "d57c9c22",
   "metadata": {},
   "outputs": [
    {
     "data": {
      "text/html": [
       "<div>\n",
       "<style scoped>\n",
       "    .dataframe tbody tr th:only-of-type {\n",
       "        vertical-align: middle;\n",
       "    }\n",
       "\n",
       "    .dataframe tbody tr th {\n",
       "        vertical-align: top;\n",
       "    }\n",
       "\n",
       "    .dataframe thead th {\n",
       "        text-align: right;\n",
       "    }\n",
       "</style>\n",
       "<table border=\"1\" class=\"dataframe\">\n",
       "  <thead>\n",
       "    <tr style=\"text-align: right;\">\n",
       "      <th></th>\n",
       "      <th>Date</th>\n",
       "      <th>Open</th>\n",
       "      <th>High</th>\n",
       "      <th>Low</th>\n",
       "      <th>Close</th>\n",
       "      <th>Adj Close</th>\n",
       "      <th>Volume</th>\n",
       "    </tr>\n",
       "  </thead>\n",
       "  <tbody>\n",
       "    <tr>\n",
       "      <th>0</th>\n",
       "      <td>29-06-2010</td>\n",
       "      <td>19.000000</td>\n",
       "      <td>25.00</td>\n",
       "      <td>17.540001</td>\n",
       "      <td>23.889999</td>\n",
       "      <td>23.889999</td>\n",
       "      <td>18766300</td>\n",
       "    </tr>\n",
       "    <tr>\n",
       "      <th>1</th>\n",
       "      <td>30-06-2010</td>\n",
       "      <td>25.790001</td>\n",
       "      <td>30.42</td>\n",
       "      <td>23.299999</td>\n",
       "      <td>23.830000</td>\n",
       "      <td>23.830000</td>\n",
       "      <td>17187100</td>\n",
       "    </tr>\n",
       "    <tr>\n",
       "      <th>2</th>\n",
       "      <td>01-07-2010</td>\n",
       "      <td>25.000000</td>\n",
       "      <td>25.92</td>\n",
       "      <td>20.270000</td>\n",
       "      <td>21.959999</td>\n",
       "      <td>21.959999</td>\n",
       "      <td>8218800</td>\n",
       "    </tr>\n",
       "    <tr>\n",
       "      <th>3</th>\n",
       "      <td>02-07-2010</td>\n",
       "      <td>23.000000</td>\n",
       "      <td>23.10</td>\n",
       "      <td>18.709999</td>\n",
       "      <td>19.200001</td>\n",
       "      <td>19.200001</td>\n",
       "      <td>5139800</td>\n",
       "    </tr>\n",
       "    <tr>\n",
       "      <th>4</th>\n",
       "      <td>06-07-2010</td>\n",
       "      <td>20.000000</td>\n",
       "      <td>20.00</td>\n",
       "      <td>15.830000</td>\n",
       "      <td>16.110001</td>\n",
       "      <td>16.110001</td>\n",
       "      <td>6866900</td>\n",
       "    </tr>\n",
       "  </tbody>\n",
       "</table>\n",
       "</div>"
      ],
      "text/plain": [
       "         Date       Open   High        Low      Close  Adj Close    Volume\n",
       "0  29-06-2010  19.000000  25.00  17.540001  23.889999  23.889999  18766300\n",
       "1  30-06-2010  25.790001  30.42  23.299999  23.830000  23.830000  17187100\n",
       "2  01-07-2010  25.000000  25.92  20.270000  21.959999  21.959999   8218800\n",
       "3  02-07-2010  23.000000  23.10  18.709999  19.200001  19.200001   5139800\n",
       "4  06-07-2010  20.000000  20.00  15.830000  16.110001  16.110001   6866900"
      ]
     },
     "execution_count": 4,
     "metadata": {},
     "output_type": "execute_result"
    }
   ],
   "source": [
    "data.head()"
   ]
  },
  {
   "cell_type": "code",
   "execution_count": 5,
   "id": "97a4a161",
   "metadata": {},
   "outputs": [
    {
     "name": "stdout",
     "output_type": "stream",
     "text": [
      "<class 'pandas.core.frame.DataFrame'>\n",
      "RangeIndex: 2416 entries, 0 to 2415\n",
      "Data columns (total 7 columns):\n",
      " #   Column     Non-Null Count  Dtype  \n",
      "---  ------     --------------  -----  \n",
      " 0   Date       2416 non-null   object \n",
      " 1   Open       2416 non-null   float64\n",
      " 2   High       2416 non-null   float64\n",
      " 3   Low        2416 non-null   float64\n",
      " 4   Close      2416 non-null   float64\n",
      " 5   Adj Close  2416 non-null   float64\n",
      " 6   Volume     2416 non-null   int64  \n",
      "dtypes: float64(5), int64(1), object(1)\n",
      "memory usage: 132.2+ KB\n"
     ]
    }
   ],
   "source": [
    "data.info()"
   ]
  },
  {
   "cell_type": "code",
   "execution_count": 6,
   "id": "d17ec173",
   "metadata": {},
   "outputs": [
    {
     "data": {
      "text/html": [
       "<div>\n",
       "<style scoped>\n",
       "    .dataframe tbody tr th:only-of-type {\n",
       "        vertical-align: middle;\n",
       "    }\n",
       "\n",
       "    .dataframe tbody tr th {\n",
       "        vertical-align: top;\n",
       "    }\n",
       "\n",
       "    .dataframe thead th {\n",
       "        text-align: right;\n",
       "    }\n",
       "</style>\n",
       "<table border=\"1\" class=\"dataframe\">\n",
       "  <thead>\n",
       "    <tr style=\"text-align: right;\">\n",
       "      <th></th>\n",
       "      <th>Open</th>\n",
       "      <th>High</th>\n",
       "      <th>Low</th>\n",
       "      <th>Close</th>\n",
       "      <th>Adj Close</th>\n",
       "      <th>Volume</th>\n",
       "    </tr>\n",
       "  </thead>\n",
       "  <tbody>\n",
       "    <tr>\n",
       "      <th>count</th>\n",
       "      <td>2416.000000</td>\n",
       "      <td>2416.000000</td>\n",
       "      <td>2416.000000</td>\n",
       "      <td>2416.000000</td>\n",
       "      <td>2416.000000</td>\n",
       "      <td>2.416000e+03</td>\n",
       "    </tr>\n",
       "    <tr>\n",
       "      <th>mean</th>\n",
       "      <td>186.271147</td>\n",
       "      <td>189.578224</td>\n",
       "      <td>182.916639</td>\n",
       "      <td>186.403651</td>\n",
       "      <td>186.403651</td>\n",
       "      <td>5.572722e+06</td>\n",
       "    </tr>\n",
       "    <tr>\n",
       "      <th>std</th>\n",
       "      <td>118.740163</td>\n",
       "      <td>120.892329</td>\n",
       "      <td>116.857591</td>\n",
       "      <td>119.136020</td>\n",
       "      <td>119.136020</td>\n",
       "      <td>4.987809e+06</td>\n",
       "    </tr>\n",
       "    <tr>\n",
       "      <th>min</th>\n",
       "      <td>16.139999</td>\n",
       "      <td>16.629999</td>\n",
       "      <td>14.980000</td>\n",
       "      <td>15.800000</td>\n",
       "      <td>15.800000</td>\n",
       "      <td>1.185000e+05</td>\n",
       "    </tr>\n",
       "    <tr>\n",
       "      <th>25%</th>\n",
       "      <td>34.342498</td>\n",
       "      <td>34.897501</td>\n",
       "      <td>33.587501</td>\n",
       "      <td>34.400002</td>\n",
       "      <td>34.400002</td>\n",
       "      <td>1.899275e+06</td>\n",
       "    </tr>\n",
       "    <tr>\n",
       "      <th>50%</th>\n",
       "      <td>213.035004</td>\n",
       "      <td>216.745002</td>\n",
       "      <td>208.870002</td>\n",
       "      <td>212.960007</td>\n",
       "      <td>212.960007</td>\n",
       "      <td>4.578400e+06</td>\n",
       "    </tr>\n",
       "    <tr>\n",
       "      <th>75%</th>\n",
       "      <td>266.450012</td>\n",
       "      <td>270.927513</td>\n",
       "      <td>262.102501</td>\n",
       "      <td>266.774994</td>\n",
       "      <td>266.774994</td>\n",
       "      <td>7.361150e+06</td>\n",
       "    </tr>\n",
       "    <tr>\n",
       "      <th>max</th>\n",
       "      <td>673.690002</td>\n",
       "      <td>786.140015</td>\n",
       "      <td>673.520020</td>\n",
       "      <td>780.000000</td>\n",
       "      <td>780.000000</td>\n",
       "      <td>4.706500e+07</td>\n",
       "    </tr>\n",
       "  </tbody>\n",
       "</table>\n",
       "</div>"
      ],
      "text/plain": [
       "              Open         High          Low        Close    Adj Close  \\\n",
       "count  2416.000000  2416.000000  2416.000000  2416.000000  2416.000000   \n",
       "mean    186.271147   189.578224   182.916639   186.403651   186.403651   \n",
       "std     118.740163   120.892329   116.857591   119.136020   119.136020   \n",
       "min      16.139999    16.629999    14.980000    15.800000    15.800000   \n",
       "25%      34.342498    34.897501    33.587501    34.400002    34.400002   \n",
       "50%     213.035004   216.745002   208.870002   212.960007   212.960007   \n",
       "75%     266.450012   270.927513   262.102501   266.774994   266.774994   \n",
       "max     673.690002   786.140015   673.520020   780.000000   780.000000   \n",
       "\n",
       "             Volume  \n",
       "count  2.416000e+03  \n",
       "mean   5.572722e+06  \n",
       "std    4.987809e+06  \n",
       "min    1.185000e+05  \n",
       "25%    1.899275e+06  \n",
       "50%    4.578400e+06  \n",
       "75%    7.361150e+06  \n",
       "max    4.706500e+07  "
      ]
     },
     "execution_count": 6,
     "metadata": {},
     "output_type": "execute_result"
    }
   ],
   "source": [
    "data.describe()"
   ]
  },
  {
   "cell_type": "code",
   "execution_count": 7,
   "id": "6eb32814",
   "metadata": {},
   "outputs": [],
   "source": [
    "X = data[['High','Low','Open','Volume']].values\n",
    "y = data['Close'].values"
   ]
  },
  {
   "cell_type": "code",
   "execution_count": 9,
   "id": "012dd2a1",
   "metadata": {},
   "outputs": [
    {
     "data": {
      "text/plain": [
       "array([[2.50000000e+01, 1.75400010e+01, 1.90000000e+01, 1.87663000e+07],\n",
       "       [3.04200000e+01, 2.32999990e+01, 2.57900010e+01, 1.71871000e+07],\n",
       "       [2.59200000e+01, 2.02700000e+01, 2.50000000e+01, 8.21880000e+06],\n",
       "       ...,\n",
       "       [6.50880005e+02, 6.18000000e+02, 6.32419983e+02, 2.90057000e+07],\n",
       "       [6.53000000e+02, 6.32520020e+02, 6.40000000e+02, 1.57193000e+07],\n",
       "       [7.86140015e+02, 6.73520020e+02, 6.73690002e+02, 4.70650000e+07]])"
      ]
     },
     "execution_count": 9,
     "metadata": {},
     "output_type": "execute_result"
    }
   ],
   "source": [
    "X"
   ]
  },
  {
   "cell_type": "code",
   "execution_count": 11,
   "id": "56187729",
   "metadata": {},
   "outputs": [
    {
     "data": {
      "text/plain": [
       "array([ 23.889999,  23.83    ,  21.959999, ..., 640.809998, 650.570007,\n",
       "       780.      ])"
      ]
     },
     "execution_count": 11,
     "metadata": {},
     "output_type": "execute_result"
    }
   ],
   "source": [
    "y"
   ]
  },
  {
   "cell_type": "code",
   "execution_count": 12,
   "id": "c57d4282",
   "metadata": {},
   "outputs": [],
   "source": [
    "X_train, X_test, y_train, y_test = train_test_split(X,y, test_size=0.3, random_state=1)"
   ]
  },
  {
   "cell_type": "code",
   "execution_count": 13,
   "id": "b8d1ad21",
   "metadata": {},
   "outputs": [],
   "source": [
    "regressor = LinearRegression()"
   ]
  },
  {
   "cell_type": "code",
   "execution_count": 14,
   "id": "4d7d48eb",
   "metadata": {},
   "outputs": [
    {
     "data": {
      "text/plain": [
       "LinearRegression()"
      ]
     },
     "execution_count": 14,
     "metadata": {},
     "output_type": "execute_result"
    }
   ],
   "source": [
    "regressor.fit(X_train, y_train)"
   ]
  },
  {
   "cell_type": "code",
   "execution_count": 15,
   "id": "16c3d0c3",
   "metadata": {},
   "outputs": [
    {
     "name": "stdout",
     "output_type": "stream",
     "text": [
      "[ 8.82000705e-01  7.40143446e-01 -6.23514690e-01 -1.14306384e-08]\n"
     ]
    }
   ],
   "source": [
    "print(regressor.coef_)"
   ]
  },
  {
   "cell_type": "code",
   "execution_count": 16,
   "id": "c15719e4",
   "metadata": {},
   "outputs": [
    {
     "name": "stdout",
     "output_type": "stream",
     "text": [
      "-0.024151989032958454\n"
     ]
    }
   ],
   "source": [
    "print(regressor.intercept_)"
   ]
  },
  {
   "cell_type": "code",
   "execution_count": 17,
   "id": "832678fb",
   "metadata": {},
   "outputs": [],
   "source": [
    "predicted = regressor.predict(X_test)"
   ]
  },
  {
   "cell_type": "code",
   "execution_count": 18,
   "id": "d354c657",
   "metadata": {},
   "outputs": [
    {
     "name": "stdout",
     "output_type": "stream",
     "text": [
      "[ 29.79325269 235.28583478 364.63699319  24.96496935 247.81602835\n",
      " 337.24496418 221.91253707 204.78394408 211.48694208 295.26910433\n",
      " 381.80408679  35.00728995 369.02345057  30.97371213 278.87630306\n",
      " 256.9967241   25.90031616  37.65971688 181.16509206  31.40798898\n",
      " 252.27428919 286.06423329  32.36446418  21.3594546   16.80086112\n",
      " 341.10141833 232.50250486  33.89064145 292.13884102  23.11594754\n",
      "  30.35951966 341.93035234 354.76227375 247.53900917  29.55112806\n",
      " 251.29513505 203.69159911 318.63238407 261.97374719  37.21529283\n",
      "  34.05817311 197.51529097 413.76452452  25.0519831   16.78354601\n",
      "  26.05099965  32.16660227 202.81990272 189.58768178  34.85439954\n",
      " 253.17564521 250.28715986 227.27938289 247.97106389 336.60468152\n",
      " 211.61845639 245.32072412 208.37133354 205.86069494  31.11842162\n",
      " 178.59538054 326.75841113 307.76032081  29.47196817 274.85280057\n",
      " 209.12277515  34.00546927 146.15722256  24.02344158 300.44272766\n",
      " 313.54454405  32.06737382  83.22023411 188.69398117 228.32602299\n",
      " 199.49759254 203.77950644 343.77205103  19.38298922 260.38109751\n",
      " 212.04662433 238.72449069 223.8526195   42.04022589 256.6158978\n",
      " 201.86310352  34.23746133  21.24740732 242.11986543 212.02381811\n",
      " 200.8062214  308.08447184 332.06175993  36.55866237  20.31496413\n",
      " 356.76743247 261.94315037 353.62059044 148.12418026 327.29863445\n",
      " 287.63187238 251.38823122 252.17939659  34.80233459 212.76025223\n",
      " 325.76154141 319.91891782 339.50067154  37.85917582  34.47578895\n",
      " 347.84579137  37.27909622 220.52956899 269.12809495 158.74564734\n",
      "  30.77894759 255.75139813 264.17332599 215.75887504 194.66181875\n",
      "  20.75742191 301.58179899  28.52619261  24.37753944  45.43838562\n",
      "  30.12764243 216.7611115  252.9205285   33.53205602  20.71323797\n",
      " 226.43194014 357.64195472 223.28655096 270.37220073 258.20902387\n",
      "  39.42045757 262.47111171  21.03610578 183.10502201 214.71544448\n",
      " 225.42973187 249.36725767 251.84781659  20.74994458 272.63085702\n",
      "  30.03165786 241.15678201 256.2589702   30.58761145 252.9003754\n",
      "  30.46927093 207.17611224  39.19431016 247.56032141 232.49097654\n",
      "  32.60628092 179.80818423 335.68788157  45.58159085 313.89912926\n",
      " 227.30194742 244.7771301  198.35762824 344.89364075 123.7938076\n",
      " 261.37783433  25.90873219 198.38790777 305.89087152 304.75236154\n",
      " 226.25362593  29.01379017 180.60298534  25.24978358  37.24583638\n",
      " 227.955156    29.20890014 336.35757356 238.82257985  24.36303104\n",
      " 244.99326383 232.50289921  28.39707639  26.61876273 330.74920063\n",
      " 252.69317698  35.81166449 220.72850497 116.32352479 194.96895551\n",
      " 581.00478808 318.88468609 348.81041614 171.03881763 142.1689127\n",
      " 253.55100586 119.10096864 206.43895833 237.44945291 276.8372321\n",
      " 191.92773769 164.20887175 225.00638882  37.1830122  200.68785185\n",
      " 323.3149021  201.41322379 332.60204414 128.35752059 316.65790736\n",
      " 334.22097151 203.0732345   28.88919338 187.88133586 208.19294935\n",
      "  28.49848273  34.00052283 117.87545553 325.18189886 101.49049992\n",
      " 217.03221314 258.3323905   38.91902114 207.0009377  164.57622638\n",
      "  28.35026501 330.89405664 176.7044157  221.34924128 205.55083688\n",
      " 234.52597896 318.4308799  220.20578135 771.25972837 333.5996319\n",
      " 122.2611313   28.47065795  23.56858843 248.60258128  27.22804585\n",
      "  26.15488209 232.83167768 122.9258553  204.96604846 211.89105772\n",
      " 223.64443115 249.80550558 140.66835864 331.47787489 344.37870769\n",
      " 211.83656456 105.82692556 138.49693957 202.38895363  26.84463602\n",
      " 365.2244269  218.40588996  33.77936171 282.28848275 306.06069361\n",
      " 363.583232    35.09648069 187.42911348  90.0931348  345.74699493\n",
      " 173.88089469  27.46843379  27.69133523  49.2462913  286.91419818\n",
      "  45.04923954 288.60556304  28.44237065 229.10088859 248.53313538\n",
      " 418.74465733 213.95837572 193.06913884 231.58890305 227.58306271\n",
      "  38.24524743 166.59510044 238.92830469 128.93797219 255.16044857\n",
      " 144.51208114 350.94560982 177.61940433  27.32332562 169.49597427\n",
      " 154.34486722  27.50515997 227.65781068  34.97361225  21.6782829\n",
      "  37.72844637 234.55701879  27.34801389  27.34501792  32.73388672\n",
      " 353.82840326 337.81835968 233.66977032  20.52607178 294.90782309\n",
      " 196.87222152 183.20548568 210.14250073 209.79907934 205.52609872\n",
      "  24.83609663 258.52357712  29.2638553  298.02571332 258.38793538\n",
      "  27.69873052 348.29789527 191.59163274 209.044979   227.66809518\n",
      "  30.40856777 206.6325211  338.78497868 210.67648445 345.13247504\n",
      " 324.10134075  27.84489941  32.0023269  544.10081842 225.66419208\n",
      " 342.79949666 192.71352989  29.03783385 211.34282214 222.20924225\n",
      "  30.21335652  30.53983806  31.17073247  28.64763805 208.71764186\n",
      " 327.84941215 309.24153257 304.55546382 196.75888829  33.34045242\n",
      " 260.30831348  33.09672173 644.84877253 148.58258158 321.95849427\n",
      " 208.54761142 296.83735609 282.99659911  28.67254403 235.78663832\n",
      " 151.84634475 226.70600257 212.2607881  247.01447405 214.66690108\n",
      " 244.74464069  37.58926574 202.35350301 219.71413767 291.68170217\n",
      " 299.13881139 229.94242703 264.16410888  29.46706607 342.13974312\n",
      " 247.1904021   27.32612108 490.48682921 163.53188012 347.24786811\n",
      " 363.86707414  95.47539176 190.4305896   33.38508883 248.43216801\n",
      "  29.72303435  28.34932406 257.91675256 118.65680253 278.84835688\n",
      " 255.38187105  28.56158342 250.8486093  301.61624275 283.33980281\n",
      "  23.95933104 636.80641772 189.82368989 311.0547425  294.16059891\n",
      "  30.23141778 223.95995199 319.8299376  262.41731854 199.37723383\n",
      " 191.54944984  32.52285064  28.00044812 195.29077526  32.30306614\n",
      "  29.36443264 195.49272845  30.92118004 156.77747862 224.28481542\n",
      " 315.18961657  42.92886593 224.39649027 311.10472842  24.666247\n",
      "  31.2595064   22.173478   165.18473734 343.03726051  25.67897697\n",
      "  23.89847614 220.9510998   27.60987638 250.82683965 206.76460593\n",
      " 404.44966584 349.52626327 341.39197947 224.3543919  350.56703132\n",
      " 352.87717127  21.59738391  21.00208632 251.07583517 258.04984357\n",
      " 322.35894171  35.11766776 346.51869509 195.46714231  54.05769053\n",
      " 210.62470037 176.616724   297.85813454 174.33875393 248.01003123\n",
      " 122.28317861  99.00671418  33.09144682  30.7278563  212.35744556\n",
      " 301.86135404  28.34312099  33.51090856  30.01610084  24.19625357\n",
      " 328.06426596  34.30954221 247.37134577 289.17551208 365.13673144\n",
      " 191.3516278  239.45497007  28.72819158 253.89425799 301.47209606\n",
      "  34.48592503  20.36909198  23.55982307 217.81376472  26.57879908\n",
      "  24.92186037 190.34169253 355.31544972 294.50612242  27.77474701\n",
      "  27.45075729 153.17833831 245.82855296 123.36408019 230.47050806\n",
      "  26.57775249 203.43957562  33.98194436 211.61603967  31.8473188\n",
      "  22.87564914  30.86967975 245.73927734 183.34178516  34.88555162\n",
      " 256.59207963  26.20978251 232.29710179 256.33252273 303.12051806\n",
      "  22.12869714 206.56010899 232.6876333  376.23116981 377.41313462\n",
      " 304.10903365  33.15980829 335.30350572 240.44855569  90.46194974\n",
      "  25.31463341 290.89904766 264.47583923 278.99535785 120.58909359\n",
      " 216.61521606 213.3104729  247.38896311 338.87548532 419.74482242\n",
      " 188.10302598 315.45588256 183.66117876  34.91103725 342.08472572\n",
      " 208.99802265  27.53159663 339.72625548 326.13133255 329.37728145\n",
      " 309.503116    28.39837663 270.8488949   22.89694411  30.9952465\n",
      "  34.40521687  19.79855837 221.6365704  258.41731123 350.29787577\n",
      " 286.57323799 346.68770137 225.25448952  27.36002381 277.73886769\n",
      " 289.14412314 285.55215407  28.45564763 216.19554788 268.7651652\n",
      "  28.90801065  28.60030975 213.1719137  328.85140312 298.21397182\n",
      " 198.18166347  31.4264602   25.00320413 184.33808877 296.82941652\n",
      " 227.30201683  24.62428648  28.03606283 300.14677125 177.83778432\n",
      " 236.16986469 251.89742642  33.42944314  30.67646928 160.51341803\n",
      " 197.86204627 203.32346818 329.57951729 311.3607088  200.53571343\n",
      " 255.70903677  21.63767703 190.26525865 236.48882831  34.79967032\n",
      " 252.54010518 368.32141467 233.47937482 321.32473463 282.8379886\n",
      " 192.93893328  52.30506163  17.27877405 193.12826495 192.99910806\n",
      "  34.66916048  28.81240188 279.16553705 205.22083762 326.99164382\n",
      " 221.84671443 298.79118634 228.57013427 229.56774638 315.10778039\n",
      " 157.83521838  90.30813485  28.36680975 315.43321606 216.38130257\n",
      " 304.5525634  166.92046653 212.50096393 227.95073302 134.31648146\n",
      " 216.92464433 251.07990773 288.33762747  43.90553295 294.00050857\n",
      "  20.49223916 269.09524231  20.81738286 222.30662838 254.35017726\n",
      " 209.44301591 297.77853777  23.78514817 204.03661743 243.07671193\n",
      "  27.30577372  27.46464232 306.97533634 315.2358502  204.3254065\n",
      " 255.12695852 371.55500819 123.47987583 202.76885976  33.69320469\n",
      " 180.63307115  31.29663501  25.97735142  35.60149018 227.9254239\n",
      "  28.10605216 341.12500919 201.72518423  34.12505316 263.94897421\n",
      " 189.68209015 229.09687493  28.02207316 239.74709207  34.6704388\n",
      " 233.75752564 177.01514013 243.28301207 333.12716038 247.70693832\n",
      "  46.84648739 367.8752508  313.58370015 183.31303943 269.60922599\n",
      " 227.54937003 201.28366437 366.58055716 240.29572767 297.99408314\n",
      "  18.89900512 254.86321618 307.1079602  335.49673806 143.72022385\n",
      " 200.27876638 318.53184074 189.59647528 224.27578708 204.46943572\n",
      "  28.23858335  26.91911604 278.25791149 198.86938566 230.24969286\n",
      " 360.65899273 248.05905604 315.30081555 341.42021909 330.55651514\n",
      " 205.66305898 313.17989976 234.93970066 208.55262275 376.73017167\n",
      " 241.21060028 229.08620916 147.60952013 213.04149989 229.81295721\n",
      " 237.64735457 194.28746265 297.74482003 223.25220724  31.17782024\n",
      "  20.92695228  29.94226144 271.58085656 208.47531393 229.65424397\n",
      " 228.18457321 225.15294507  24.80058025 251.74978834  29.00612022\n",
      " 150.61198727 221.29885683 322.54979208 202.23983556 285.63435092\n",
      " 353.4593944   26.15421391 234.52933251 349.65034662 309.73320295\n",
      "  27.28164931  33.14335032  23.63805835 356.74508911 238.39328758\n",
      " 244.70371559 224.9906404   39.11443054 301.54979574 313.23679968]\n"
     ]
    }
   ],
   "source": [
    "print(predicted)"
   ]
  },
  {
   "cell_type": "code",
   "execution_count": 19,
   "id": "d6450f15",
   "metadata": {},
   "outputs": [],
   "source": [
    "data1 = pd.DataFrame({'Actual': y_test.flatten(), 'Predicted' : predicted.flatten()})"
   ]
  },
  {
   "cell_type": "code",
   "execution_count": 20,
   "id": "6ec7933a",
   "metadata": {},
   "outputs": [
    {
     "data": {
      "text/html": [
       "<div>\n",
       "<style scoped>\n",
       "    .dataframe tbody tr th:only-of-type {\n",
       "        vertical-align: middle;\n",
       "    }\n",
       "\n",
       "    .dataframe tbody tr th {\n",
       "        vertical-align: top;\n",
       "    }\n",
       "\n",
       "    .dataframe thead th {\n",
       "        text-align: right;\n",
       "    }\n",
       "</style>\n",
       "<table border=\"1\" class=\"dataframe\">\n",
       "  <thead>\n",
       "    <tr style=\"text-align: right;\">\n",
       "      <th></th>\n",
       "      <th>Actual</th>\n",
       "      <th>Predicted</th>\n",
       "    </tr>\n",
       "  </thead>\n",
       "  <tbody>\n",
       "    <tr>\n",
       "      <th>0</th>\n",
       "      <td>29.940001</td>\n",
       "      <td>29.793253</td>\n",
       "    </tr>\n",
       "    <tr>\n",
       "      <th>1</th>\n",
       "      <td>235.839996</td>\n",
       "      <td>235.285835</td>\n",
       "    </tr>\n",
       "    <tr>\n",
       "      <th>2</th>\n",
       "      <td>362.750000</td>\n",
       "      <td>364.636993</td>\n",
       "    </tr>\n",
       "    <tr>\n",
       "      <th>3</th>\n",
       "      <td>24.740000</td>\n",
       "      <td>24.964969</td>\n",
       "    </tr>\n",
       "    <tr>\n",
       "      <th>4</th>\n",
       "      <td>250.029999</td>\n",
       "      <td>247.816028</td>\n",
       "    </tr>\n",
       "    <tr>\n",
       "      <th>5</th>\n",
       "      <td>334.850006</td>\n",
       "      <td>337.244964</td>\n",
       "    </tr>\n",
       "    <tr>\n",
       "      <th>6</th>\n",
       "      <td>222.600006</td>\n",
       "      <td>221.912537</td>\n",
       "    </tr>\n",
       "    <tr>\n",
       "      <th>7</th>\n",
       "      <td>203.759995</td>\n",
       "      <td>204.783944</td>\n",
       "    </tr>\n",
       "    <tr>\n",
       "      <th>8</th>\n",
       "      <td>209.600006</td>\n",
       "      <td>211.486942</td>\n",
       "    </tr>\n",
       "    <tr>\n",
       "      <th>9</th>\n",
       "      <td>294.790009</td>\n",
       "      <td>295.269104</td>\n",
       "    </tr>\n",
       "    <tr>\n",
       "      <th>10</th>\n",
       "      <td>378.989990</td>\n",
       "      <td>381.804087</td>\n",
       "    </tr>\n",
       "    <tr>\n",
       "      <th>11</th>\n",
       "      <td>35.000000</td>\n",
       "      <td>35.007290</td>\n",
       "    </tr>\n",
       "    <tr>\n",
       "      <th>12</th>\n",
       "      <td>365.709991</td>\n",
       "      <td>369.023451</td>\n",
       "    </tr>\n",
       "    <tr>\n",
       "      <th>13</th>\n",
       "      <td>31.360001</td>\n",
       "      <td>30.973712</td>\n",
       "    </tr>\n",
       "    <tr>\n",
       "      <th>14</th>\n",
       "      <td>279.760010</td>\n",
       "      <td>278.876303</td>\n",
       "    </tr>\n",
       "    <tr>\n",
       "      <th>15</th>\n",
       "      <td>259.959991</td>\n",
       "      <td>256.996724</td>\n",
       "    </tr>\n",
       "    <tr>\n",
       "      <th>16</th>\n",
       "      <td>25.830000</td>\n",
       "      <td>25.900316</td>\n",
       "    </tr>\n",
       "    <tr>\n",
       "      <th>17</th>\n",
       "      <td>37.689999</td>\n",
       "      <td>37.659717</td>\n",
       "    </tr>\n",
       "    <tr>\n",
       "      <th>18</th>\n",
       "      <td>180.949997</td>\n",
       "      <td>181.165092</td>\n",
       "    </tr>\n",
       "    <tr>\n",
       "      <th>19</th>\n",
       "      <td>31.840000</td>\n",
       "      <td>31.407989</td>\n",
       "    </tr>\n",
       "  </tbody>\n",
       "</table>\n",
       "</div>"
      ],
      "text/plain": [
       "        Actual   Predicted\n",
       "0    29.940001   29.793253\n",
       "1   235.839996  235.285835\n",
       "2   362.750000  364.636993\n",
       "3    24.740000   24.964969\n",
       "4   250.029999  247.816028\n",
       "5   334.850006  337.244964\n",
       "6   222.600006  221.912537\n",
       "7   203.759995  204.783944\n",
       "8   209.600006  211.486942\n",
       "9   294.790009  295.269104\n",
       "10  378.989990  381.804087\n",
       "11   35.000000   35.007290\n",
       "12  365.709991  369.023451\n",
       "13   31.360001   30.973712\n",
       "14  279.760010  278.876303\n",
       "15  259.959991  256.996724\n",
       "16   25.830000   25.900316\n",
       "17   37.689999   37.659717\n",
       "18  180.949997  181.165092\n",
       "19   31.840000   31.407989"
      ]
     },
     "execution_count": 20,
     "metadata": {},
     "output_type": "execute_result"
    }
   ],
   "source": [
    "data1.head(20)"
   ]
  },
  {
   "cell_type": "code",
   "execution_count": 21,
   "id": "2ecde8c8",
   "metadata": {},
   "outputs": [
    {
     "name": "stdout",
     "output_type": "stream",
     "text": [
      "Mean Absolute Error: 1.4411086991820725\n",
      "Mean Squared Error: 4.410972416858393\n",
      "Root Mean Squared Error: 2.100231515061707\n"
     ]
    }
   ],
   "source": [
    "import math\n",
    "print('Mean Absolute Error:', metrics.mean_absolute_error(y_test,predicted))\n",
    "print('Mean Squared Error:', metrics.mean_squared_error(y_test,predicted))\n",
    "print('Root Mean Squared Error:', math.sqrt(metrics.mean_squared_error(y_test,predicted)))"
   ]
  },
  {
   "cell_type": "code",
   "execution_count": 22,
   "id": "2e536c62",
   "metadata": {},
   "outputs": [],
   "source": [
    "graph = data1.head(20)"
   ]
  },
  {
   "cell_type": "code",
   "execution_count": 23,
   "id": "66a9a2b9",
   "metadata": {},
   "outputs": [
    {
     "data": {
      "text/plain": [
       "<AxesSubplot:>"
      ]
     },
     "execution_count": 23,
     "metadata": {},
     "output_type": "execute_result"
    },
    {
     "data": {
      "image/png": "[encoded data removed]",
      "text/plain": [
       "<Figure size 432x288 with 1 Axes>"
      ]
     },
     "metadata": {
      "needs_background": "light"
     },
     "output_type": "display_data"
    }
   ],
   "source": [
    "graph.plot(kind='bar')"
   ]
  },
  {
   "cell_type": "code",
   "execution_count": 24,
   "id": "27c548eb",
   "metadata": {},
   "outputs": [
    {
     "name": "stdout",
     "output_type": "stream",
     "text": [
      "thank you :)\n"
     ]
    }
   ],
   "source": [
    "print(\"thank you :)\")"
   ]
  }
 ],
 "metadata": {
  "kernelspec": {
   "display_name": "Python 3 (ipykernel)",
   "language": "python",
   "name": "python3"
  },
  "language_info": {
   "codemirror_mode": {
    "name": "ipython",
    "version": 3
   },
   "file_extension": ".py",
   "mimetype": "text/x-python",
   "name": "python",
   "nbconvert_exporter": "python",
   "pygments_lexer": "ipython3",
   "version": "3.9.12"
  }
 },
 "nbformat": 4,
 "nbformat_minor": 5
}
